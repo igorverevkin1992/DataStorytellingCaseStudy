{
 "cells": [
  {
   "cell_type": "markdown",
   "metadata": {},
   "source": [
    "# Amazon Bestsellers Exploratory Data Analysis\n",
    "\n",
    "There is a saying in Russia that a book is the best gift. Indeed, who doesn't like to read? However, not all the books are created equal. In this notebook we will take a look at the Amazon Bestsellers from 2009 to 2019 and will try to find out how the audience's taste has shifted over the period of 10 years (or maybe it hasn't at all?). Do people like fiction or non-fiction better, are new books more popular than old ones, who is the best-selling author and is his books more expensive than others? We will find answer to all this quesetions in this notebook.\n",
    "Let's start!"
   ]
  },
  {
   "cell_type": "code",
   "execution_count": 1,
   "metadata": {},
   "outputs": [],
   "source": [
    "import pandas as pd\n",
    "import seaborn as sns\n",
    "import matplotlib.pyplot as plt\n",
    "import missingno as msno\n",
    "import os\n",
    "\n",
    "#setting default figure size\n",
    "sns.set(rc={\"figure.figsize\":(12, 6)})\n",
    "plt.rcParams['figure.figsize'] = (12, 6)\n",
    "\n",
    "sns.set_style('whitegrid')"
   ]
  },
  {
   "cell_type": "code",
   "execution_count": 2,
   "metadata": {},
   "outputs": [
    {
     "data": {
      "text/html": [
       "<div>\n",
       "<style scoped>\n",
       "    .dataframe tbody tr th:only-of-type {\n",
       "        vertical-align: middle;\n",
       "    }\n",
       "\n",
       "    .dataframe tbody tr th {\n",
       "        vertical-align: top;\n",
       "    }\n",
       "\n",
       "    .dataframe thead th {\n",
       "        text-align: right;\n",
       "    }\n",
       "</style>\n",
       "<table border=\"1\" class=\"dataframe\">\n",
       "  <thead>\n",
       "    <tr style=\"text-align: right;\">\n",
       "      <th></th>\n",
       "      <th>Name</th>\n",
       "      <th>Author</th>\n",
       "      <th>User Rating</th>\n",
       "      <th>Reviews</th>\n",
       "      <th>Price</th>\n",
       "      <th>Year</th>\n",
       "      <th>Genre</th>\n",
       "    </tr>\n",
       "  </thead>\n",
       "  <tbody>\n",
       "    <tr>\n",
       "      <th>0</th>\n",
       "      <td>10-Day Green Smoothie Cleanse</td>\n",
       "      <td>JJ Smith</td>\n",
       "      <td>4.7</td>\n",
       "      <td>17350</td>\n",
       "      <td>8</td>\n",
       "      <td>2016</td>\n",
       "      <td>Non Fiction</td>\n",
       "    </tr>\n",
       "    <tr>\n",
       "      <th>1</th>\n",
       "      <td>11/22/63: A Novel</td>\n",
       "      <td>Stephen King</td>\n",
       "      <td>4.6</td>\n",
       "      <td>2052</td>\n",
       "      <td>22</td>\n",
       "      <td>2011</td>\n",
       "      <td>Fiction</td>\n",
       "    </tr>\n",
       "    <tr>\n",
       "      <th>2</th>\n",
       "      <td>12 Rules for Life: An Antidote to Chaos</td>\n",
       "      <td>Jordan B. Peterson</td>\n",
       "      <td>4.7</td>\n",
       "      <td>18979</td>\n",
       "      <td>15</td>\n",
       "      <td>2018</td>\n",
       "      <td>Non Fiction</td>\n",
       "    </tr>\n",
       "    <tr>\n",
       "      <th>3</th>\n",
       "      <td>1984 (Signet Classics)</td>\n",
       "      <td>George Orwell</td>\n",
       "      <td>4.7</td>\n",
       "      <td>21424</td>\n",
       "      <td>6</td>\n",
       "      <td>2017</td>\n",
       "      <td>Fiction</td>\n",
       "    </tr>\n",
       "    <tr>\n",
       "      <th>4</th>\n",
       "      <td>5,000 Awesome Facts (About Everything!) (Natio...</td>\n",
       "      <td>National Geographic Kids</td>\n",
       "      <td>4.8</td>\n",
       "      <td>7665</td>\n",
       "      <td>12</td>\n",
       "      <td>2019</td>\n",
       "      <td>Non Fiction</td>\n",
       "    </tr>\n",
       "  </tbody>\n",
       "</table>\n",
       "</div>"
      ],
      "text/plain": [
       "                                                Name  \\\n",
       "0                      10-Day Green Smoothie Cleanse   \n",
       "1                                  11/22/63: A Novel   \n",
       "2            12 Rules for Life: An Antidote to Chaos   \n",
       "3                             1984 (Signet Classics)   \n",
       "4  5,000 Awesome Facts (About Everything!) (Natio...   \n",
       "\n",
       "                     Author  User Rating  Reviews  Price  Year        Genre  \n",
       "0                  JJ Smith          4.7    17350      8  2016  Non Fiction  \n",
       "1              Stephen King          4.6     2052     22  2011      Fiction  \n",
       "2        Jordan B. Peterson          4.7    18979     15  2018  Non Fiction  \n",
       "3             George Orwell          4.7    21424      6  2017      Fiction  \n",
       "4  National Geographic Kids          4.8     7665     12  2019  Non Fiction  "
      ]
     },
     "execution_count": 2,
     "metadata": {},
     "output_type": "execute_result"
    }
   ],
   "source": [
    "df = pd.read_csv('amazon_books.csv')\n",
    "df.head()"
   ]
  },
  {
   "cell_type": "code",
   "execution_count": 3,
   "metadata": {},
   "outputs": [
    {
     "name": "stdout",
     "output_type": "stream",
     "text": [
      "<class 'pandas.core.frame.DataFrame'>\n",
      "RangeIndex: 550 entries, 0 to 549\n",
      "Data columns (total 7 columns):\n",
      " #   Column       Non-Null Count  Dtype  \n",
      "---  ------       --------------  -----  \n",
      " 0   Name         550 non-null    object \n",
      " 1   Author       550 non-null    object \n",
      " 2   User Rating  550 non-null    float64\n",
      " 3   Reviews      550 non-null    int64  \n",
      " 4   Price        550 non-null    int64  \n",
      " 5   Year         550 non-null    int64  \n",
      " 6   Genre        550 non-null    object \n",
      "dtypes: float64(1), int64(3), object(3)\n",
      "memory usage: 30.2+ KB\n"
     ]
    }
   ],
   "source": [
    "df.info()"
   ]
  },
  {
   "cell_type": "code",
   "execution_count": 4,
   "metadata": {},
   "outputs": [
    {
     "data": {
      "text/plain": [
       "Name           0\n",
       "Author         0\n",
       "User Rating    0\n",
       "Reviews        0\n",
       "Price          0\n",
       "Year           0\n",
       "Genre          0\n",
       "dtype: int64"
      ]
     },
     "execution_count": 4,
     "metadata": {},
     "output_type": "execute_result"
    }
   ],
   "source": [
    "df.isnull().sum()"
   ]
  },
  {
   "cell_type": "code",
   "execution_count": 5,
   "metadata": {},
   "outputs": [
    {
     "data": {
      "text/html": [
       "<div>\n",
       "<style scoped>\n",
       "    .dataframe tbody tr th:only-of-type {\n",
       "        vertical-align: middle;\n",
       "    }\n",
       "\n",
       "    .dataframe tbody tr th {\n",
       "        vertical-align: top;\n",
       "    }\n",
       "\n",
       "    .dataframe thead th {\n",
       "        text-align: right;\n",
       "    }\n",
       "</style>\n",
       "<table border=\"1\" class=\"dataframe\">\n",
       "  <thead>\n",
       "    <tr style=\"text-align: right;\">\n",
       "      <th></th>\n",
       "      <th>User Rating</th>\n",
       "      <th>Reviews</th>\n",
       "      <th>Price</th>\n",
       "    </tr>\n",
       "  </thead>\n",
       "  <tbody>\n",
       "    <tr>\n",
       "      <th>count</th>\n",
       "      <td>550.000000</td>\n",
       "      <td>550.000000</td>\n",
       "      <td>550.000000</td>\n",
       "    </tr>\n",
       "    <tr>\n",
       "      <th>mean</th>\n",
       "      <td>4.618364</td>\n",
       "      <td>11953.281818</td>\n",
       "      <td>13.100000</td>\n",
       "    </tr>\n",
       "    <tr>\n",
       "      <th>std</th>\n",
       "      <td>0.226980</td>\n",
       "      <td>11731.132017</td>\n",
       "      <td>10.842262</td>\n",
       "    </tr>\n",
       "    <tr>\n",
       "      <th>min</th>\n",
       "      <td>3.300000</td>\n",
       "      <td>37.000000</td>\n",
       "      <td>0.000000</td>\n",
       "    </tr>\n",
       "    <tr>\n",
       "      <th>25%</th>\n",
       "      <td>4.500000</td>\n",
       "      <td>4058.000000</td>\n",
       "      <td>7.000000</td>\n",
       "    </tr>\n",
       "    <tr>\n",
       "      <th>50%</th>\n",
       "      <td>4.700000</td>\n",
       "      <td>8580.000000</td>\n",
       "      <td>11.000000</td>\n",
       "    </tr>\n",
       "    <tr>\n",
       "      <th>75%</th>\n",
       "      <td>4.800000</td>\n",
       "      <td>17253.250000</td>\n",
       "      <td>16.000000</td>\n",
       "    </tr>\n",
       "    <tr>\n",
       "      <th>max</th>\n",
       "      <td>4.900000</td>\n",
       "      <td>87841.000000</td>\n",
       "      <td>105.000000</td>\n",
       "    </tr>\n",
       "  </tbody>\n",
       "</table>\n",
       "</div>"
      ],
      "text/plain": [
       "       User Rating       Reviews       Price\n",
       "count   550.000000    550.000000  550.000000\n",
       "mean      4.618364  11953.281818   13.100000\n",
       "std       0.226980  11731.132017   10.842262\n",
       "min       3.300000     37.000000    0.000000\n",
       "25%       4.500000   4058.000000    7.000000\n",
       "50%       4.700000   8580.000000   11.000000\n",
       "75%       4.800000  17253.250000   16.000000\n",
       "max       4.900000  87841.000000  105.000000"
      ]
     },
     "execution_count": 5,
     "metadata": {},
     "output_type": "execute_result"
    }
   ],
   "source": [
    "df[['User Rating', 'Reviews', 'Price']].describe()"
   ]
  },
  {
   "cell_type": "markdown",
   "metadata": {},
   "source": [
    "We have 550 books in the dataset. The average user rating is 4.6, amount of reviews - 11053, price - $13. Interestingly enough, the lowest user rating is 3.3, which is indeed quite low. How did this book even end up in the bestsellers list? And what is this book? Let's find out."
   ]
  },
  {
   "cell_type": "code",
   "execution_count": 6,
   "metadata": {},
   "outputs": [
    {
     "data": {
      "text/html": [
       "<div>\n",
       "<style scoped>\n",
       "    .dataframe tbody tr th:only-of-type {\n",
       "        vertical-align: middle;\n",
       "    }\n",
       "\n",
       "    .dataframe tbody tr th {\n",
       "        vertical-align: top;\n",
       "    }\n",
       "\n",
       "    .dataframe thead th {\n",
       "        text-align: right;\n",
       "    }\n",
       "</style>\n",
       "<table border=\"1\" class=\"dataframe\">\n",
       "  <thead>\n",
       "    <tr style=\"text-align: right;\">\n",
       "      <th></th>\n",
       "      <th>Name</th>\n",
       "      <th>Author</th>\n",
       "      <th>User Rating</th>\n",
       "      <th>Reviews</th>\n",
       "      <th>Price</th>\n",
       "      <th>Year</th>\n",
       "      <th>Genre</th>\n",
       "    </tr>\n",
       "  </thead>\n",
       "  <tbody>\n",
       "    <tr>\n",
       "      <th>353</th>\n",
       "      <td>The Casual Vacancy</td>\n",
       "      <td>J.K. Rowling</td>\n",
       "      <td>3.3</td>\n",
       "      <td>9372</td>\n",
       "      <td>12</td>\n",
       "      <td>2012</td>\n",
       "      <td>Fiction</td>\n",
       "    </tr>\n",
       "  </tbody>\n",
       "</table>\n",
       "</div>"
      ],
      "text/plain": [
       "                   Name        Author  User Rating  Reviews  Price  Year  \\\n",
       "353  The Casual Vacancy  J.K. Rowling          3.3     9372     12  2012   \n",
       "\n",
       "       Genre  \n",
       "353  Fiction  "
      ]
     },
     "execution_count": 6,
     "metadata": {},
     "output_type": "execute_result"
    }
   ],
   "source": [
    "suck = df[df['User Rating'] == 3.3]\n",
    "suck"
   ]
  },
  {
   "cell_type": "markdown",
   "metadata": {},
   "source": [
    "Really? The famous J.K.Rowling who created You-Know-Who got the worst rating in our dataset. And they ask 12 dollars for that book? SMH.\n",
    "And which books has the best ratings?"
   ]
  },
  {
   "cell_type": "code",
   "execution_count": 7,
   "metadata": {},
   "outputs": [
    {
     "data": {
      "text/html": [
       "<div>\n",
       "<style scoped>\n",
       "    .dataframe tbody tr th:only-of-type {\n",
       "        vertical-align: middle;\n",
       "    }\n",
       "\n",
       "    .dataframe tbody tr th {\n",
       "        vertical-align: top;\n",
       "    }\n",
       "\n",
       "    .dataframe thead th {\n",
       "        text-align: right;\n",
       "    }\n",
       "</style>\n",
       "<table border=\"1\" class=\"dataframe\">\n",
       "  <thead>\n",
       "    <tr style=\"text-align: right;\">\n",
       "      <th></th>\n",
       "      <th>Name</th>\n",
       "      <th>Author</th>\n",
       "      <th>User Rating</th>\n",
       "      <th>Reviews</th>\n",
       "      <th>Price</th>\n",
       "      <th>Year</th>\n",
       "      <th>Genre</th>\n",
       "    </tr>\n",
       "  </thead>\n",
       "  <tbody>\n",
       "    <tr>\n",
       "      <th>40</th>\n",
       "      <td>Brown Bear, Brown Bear, What Do You See?</td>\n",
       "      <td>Bill Martin Jr.</td>\n",
       "      <td>4.9</td>\n",
       "      <td>14344</td>\n",
       "      <td>5</td>\n",
       "      <td>2017</td>\n",
       "      <td>Fiction</td>\n",
       "    </tr>\n",
       "    <tr>\n",
       "      <th>41</th>\n",
       "      <td>Brown Bear, Brown Bear, What Do You See?</td>\n",
       "      <td>Bill Martin Jr.</td>\n",
       "      <td>4.9</td>\n",
       "      <td>14344</td>\n",
       "      <td>5</td>\n",
       "      <td>2019</td>\n",
       "      <td>Fiction</td>\n",
       "    </tr>\n",
       "    <tr>\n",
       "      <th>81</th>\n",
       "      <td>Dog Man and Cat Kid: From the Creator of Capta...</td>\n",
       "      <td>Dav Pilkey</td>\n",
       "      <td>4.9</td>\n",
       "      <td>5062</td>\n",
       "      <td>6</td>\n",
       "      <td>2018</td>\n",
       "      <td>Fiction</td>\n",
       "    </tr>\n",
       "    <tr>\n",
       "      <th>82</th>\n",
       "      <td>Dog Man: A Tale of Two Kitties: From the Creat...</td>\n",
       "      <td>Dav Pilkey</td>\n",
       "      <td>4.9</td>\n",
       "      <td>4786</td>\n",
       "      <td>8</td>\n",
       "      <td>2017</td>\n",
       "      <td>Fiction</td>\n",
       "    </tr>\n",
       "    <tr>\n",
       "      <th>83</th>\n",
       "      <td>Dog Man: Brawl of the Wild: From the Creator o...</td>\n",
       "      <td>Dav Pilkey</td>\n",
       "      <td>4.9</td>\n",
       "      <td>7235</td>\n",
       "      <td>4</td>\n",
       "      <td>2018</td>\n",
       "      <td>Fiction</td>\n",
       "    </tr>\n",
       "    <tr>\n",
       "      <th>84</th>\n",
       "      <td>Dog Man: Brawl of the Wild: From the Creator o...</td>\n",
       "      <td>Dav Pilkey</td>\n",
       "      <td>4.9</td>\n",
       "      <td>7235</td>\n",
       "      <td>4</td>\n",
       "      <td>2019</td>\n",
       "      <td>Fiction</td>\n",
       "    </tr>\n",
       "    <tr>\n",
       "      <th>85</th>\n",
       "      <td>Dog Man: Fetch-22: From the Creator of Captain...</td>\n",
       "      <td>Dav Pilkey</td>\n",
       "      <td>4.9</td>\n",
       "      <td>12619</td>\n",
       "      <td>8</td>\n",
       "      <td>2019</td>\n",
       "      <td>Fiction</td>\n",
       "    </tr>\n",
       "    <tr>\n",
       "      <th>86</th>\n",
       "      <td>Dog Man: For Whom the Ball Rolls: From the Cre...</td>\n",
       "      <td>Dav Pilkey</td>\n",
       "      <td>4.9</td>\n",
       "      <td>9089</td>\n",
       "      <td>8</td>\n",
       "      <td>2019</td>\n",
       "      <td>Fiction</td>\n",
       "    </tr>\n",
       "    <tr>\n",
       "      <th>87</th>\n",
       "      <td>Dog Man: Lord of the Fleas: From the Creator o...</td>\n",
       "      <td>Dav Pilkey</td>\n",
       "      <td>4.9</td>\n",
       "      <td>5470</td>\n",
       "      <td>6</td>\n",
       "      <td>2018</td>\n",
       "      <td>Fiction</td>\n",
       "    </tr>\n",
       "    <tr>\n",
       "      <th>146</th>\n",
       "      <td>Goodnight, Goodnight Construction Site (Hardco...</td>\n",
       "      <td>Sherri Duskey Rinker</td>\n",
       "      <td>4.9</td>\n",
       "      <td>7038</td>\n",
       "      <td>7</td>\n",
       "      <td>2012</td>\n",
       "      <td>Fiction</td>\n",
       "    </tr>\n",
       "    <tr>\n",
       "      <th>147</th>\n",
       "      <td>Goodnight, Goodnight Construction Site (Hardco...</td>\n",
       "      <td>Sherri Duskey Rinker</td>\n",
       "      <td>4.9</td>\n",
       "      <td>7038</td>\n",
       "      <td>7</td>\n",
       "      <td>2013</td>\n",
       "      <td>Fiction</td>\n",
       "    </tr>\n",
       "    <tr>\n",
       "      <th>151</th>\n",
       "      <td>Hamilton: The Revolution</td>\n",
       "      <td>Lin-Manuel Miranda</td>\n",
       "      <td>4.9</td>\n",
       "      <td>5867</td>\n",
       "      <td>54</td>\n",
       "      <td>2016</td>\n",
       "      <td>Non Fiction</td>\n",
       "    </tr>\n",
       "    <tr>\n",
       "      <th>153</th>\n",
       "      <td>Harry Potter and the Chamber of Secrets: The I...</td>\n",
       "      <td>J.K. Rowling</td>\n",
       "      <td>4.9</td>\n",
       "      <td>19622</td>\n",
       "      <td>30</td>\n",
       "      <td>2016</td>\n",
       "      <td>Fiction</td>\n",
       "    </tr>\n",
       "    <tr>\n",
       "      <th>155</th>\n",
       "      <td>Harry Potter and the Goblet of Fire: The Illus...</td>\n",
       "      <td>J. K. Rowling</td>\n",
       "      <td>4.9</td>\n",
       "      <td>7758</td>\n",
       "      <td>18</td>\n",
       "      <td>2019</td>\n",
       "      <td>Fiction</td>\n",
       "    </tr>\n",
       "    <tr>\n",
       "      <th>156</th>\n",
       "      <td>Harry Potter and the Prisoner of Azkaban: The ...</td>\n",
       "      <td>J.K. Rowling</td>\n",
       "      <td>4.9</td>\n",
       "      <td>3146</td>\n",
       "      <td>30</td>\n",
       "      <td>2017</td>\n",
       "      <td>Fiction</td>\n",
       "    </tr>\n",
       "    <tr>\n",
       "      <th>157</th>\n",
       "      <td>Harry Potter and the Sorcerer's Stone: The Ill...</td>\n",
       "      <td>J.K. Rowling</td>\n",
       "      <td>4.9</td>\n",
       "      <td>10052</td>\n",
       "      <td>22</td>\n",
       "      <td>2016</td>\n",
       "      <td>Fiction</td>\n",
       "    </tr>\n",
       "    <tr>\n",
       "      <th>174</th>\n",
       "      <td>Humans of New York : Stories</td>\n",
       "      <td>Brandon Stanton</td>\n",
       "      <td>4.9</td>\n",
       "      <td>2812</td>\n",
       "      <td>17</td>\n",
       "      <td>2015</td>\n",
       "      <td>Non Fiction</td>\n",
       "    </tr>\n",
       "    <tr>\n",
       "      <th>187</th>\n",
       "      <td>Jesus Calling: Enjoying Peace in His Presence ...</td>\n",
       "      <td>Sarah Young</td>\n",
       "      <td>4.9</td>\n",
       "      <td>19576</td>\n",
       "      <td>8</td>\n",
       "      <td>2011</td>\n",
       "      <td>Non Fiction</td>\n",
       "    </tr>\n",
       "    <tr>\n",
       "      <th>188</th>\n",
       "      <td>Jesus Calling: Enjoying Peace in His Presence ...</td>\n",
       "      <td>Sarah Young</td>\n",
       "      <td>4.9</td>\n",
       "      <td>19576</td>\n",
       "      <td>8</td>\n",
       "      <td>2012</td>\n",
       "      <td>Non Fiction</td>\n",
       "    </tr>\n",
       "    <tr>\n",
       "      <th>189</th>\n",
       "      <td>Jesus Calling: Enjoying Peace in His Presence ...</td>\n",
       "      <td>Sarah Young</td>\n",
       "      <td>4.9</td>\n",
       "      <td>19576</td>\n",
       "      <td>8</td>\n",
       "      <td>2013</td>\n",
       "      <td>Non Fiction</td>\n",
       "    </tr>\n",
       "    <tr>\n",
       "      <th>190</th>\n",
       "      <td>Jesus Calling: Enjoying Peace in His Presence ...</td>\n",
       "      <td>Sarah Young</td>\n",
       "      <td>4.9</td>\n",
       "      <td>19576</td>\n",
       "      <td>8</td>\n",
       "      <td>2014</td>\n",
       "      <td>Non Fiction</td>\n",
       "    </tr>\n",
       "    <tr>\n",
       "      <th>191</th>\n",
       "      <td>Jesus Calling: Enjoying Peace in His Presence ...</td>\n",
       "      <td>Sarah Young</td>\n",
       "      <td>4.9</td>\n",
       "      <td>19576</td>\n",
       "      <td>8</td>\n",
       "      <td>2015</td>\n",
       "      <td>Non Fiction</td>\n",
       "    </tr>\n",
       "    <tr>\n",
       "      <th>192</th>\n",
       "      <td>Jesus Calling: Enjoying Peace in His Presence ...</td>\n",
       "      <td>Sarah Young</td>\n",
       "      <td>4.9</td>\n",
       "      <td>19576</td>\n",
       "      <td>8</td>\n",
       "      <td>2016</td>\n",
       "      <td>Non Fiction</td>\n",
       "    </tr>\n",
       "    <tr>\n",
       "      <th>207</th>\n",
       "      <td>Last Week Tonight with John Oliver Presents A ...</td>\n",
       "      <td>Jill Twiss</td>\n",
       "      <td>4.9</td>\n",
       "      <td>11881</td>\n",
       "      <td>13</td>\n",
       "      <td>2018</td>\n",
       "      <td>Fiction</td>\n",
       "    </tr>\n",
       "    <tr>\n",
       "      <th>219</th>\n",
       "      <td>Little Blue Truck</td>\n",
       "      <td>Alice Schertle</td>\n",
       "      <td>4.9</td>\n",
       "      <td>1884</td>\n",
       "      <td>0</td>\n",
       "      <td>2014</td>\n",
       "      <td>Fiction</td>\n",
       "    </tr>\n",
       "    <tr>\n",
       "      <th>244</th>\n",
       "      <td>Obama: An Intimate Portrait</td>\n",
       "      <td>Pete Souza</td>\n",
       "      <td>4.9</td>\n",
       "      <td>3192</td>\n",
       "      <td>22</td>\n",
       "      <td>2017</td>\n",
       "      <td>Non Fiction</td>\n",
       "    </tr>\n",
       "    <tr>\n",
       "      <th>245</th>\n",
       "      <td>Oh, the Places You'll Go!</td>\n",
       "      <td>Dr. Seuss</td>\n",
       "      <td>4.9</td>\n",
       "      <td>21834</td>\n",
       "      <td>8</td>\n",
       "      <td>2012</td>\n",
       "      <td>Fiction</td>\n",
       "    </tr>\n",
       "    <tr>\n",
       "      <th>246</th>\n",
       "      <td>Oh, the Places You'll Go!</td>\n",
       "      <td>Dr. Seuss</td>\n",
       "      <td>4.9</td>\n",
       "      <td>21834</td>\n",
       "      <td>8</td>\n",
       "      <td>2013</td>\n",
       "      <td>Fiction</td>\n",
       "    </tr>\n",
       "    <tr>\n",
       "      <th>247</th>\n",
       "      <td>Oh, the Places You'll Go!</td>\n",
       "      <td>Dr. Seuss</td>\n",
       "      <td>4.9</td>\n",
       "      <td>21834</td>\n",
       "      <td>8</td>\n",
       "      <td>2014</td>\n",
       "      <td>Fiction</td>\n",
       "    </tr>\n",
       "    <tr>\n",
       "      <th>248</th>\n",
       "      <td>Oh, the Places You'll Go!</td>\n",
       "      <td>Dr. Seuss</td>\n",
       "      <td>4.9</td>\n",
       "      <td>21834</td>\n",
       "      <td>8</td>\n",
       "      <td>2015</td>\n",
       "      <td>Fiction</td>\n",
       "    </tr>\n",
       "    <tr>\n",
       "      <th>249</th>\n",
       "      <td>Oh, the Places You'll Go!</td>\n",
       "      <td>Dr. Seuss</td>\n",
       "      <td>4.9</td>\n",
       "      <td>21834</td>\n",
       "      <td>8</td>\n",
       "      <td>2016</td>\n",
       "      <td>Fiction</td>\n",
       "    </tr>\n",
       "    <tr>\n",
       "      <th>250</th>\n",
       "      <td>Oh, the Places You'll Go!</td>\n",
       "      <td>Dr. Seuss</td>\n",
       "      <td>4.9</td>\n",
       "      <td>21834</td>\n",
       "      <td>8</td>\n",
       "      <td>2017</td>\n",
       "      <td>Fiction</td>\n",
       "    </tr>\n",
       "    <tr>\n",
       "      <th>251</th>\n",
       "      <td>Oh, the Places You'll Go!</td>\n",
       "      <td>Dr. Seuss</td>\n",
       "      <td>4.9</td>\n",
       "      <td>21834</td>\n",
       "      <td>8</td>\n",
       "      <td>2018</td>\n",
       "      <td>Fiction</td>\n",
       "    </tr>\n",
       "    <tr>\n",
       "      <th>252</th>\n",
       "      <td>Oh, the Places You'll Go!</td>\n",
       "      <td>Dr. Seuss</td>\n",
       "      <td>4.9</td>\n",
       "      <td>21834</td>\n",
       "      <td>8</td>\n",
       "      <td>2019</td>\n",
       "      <td>Fiction</td>\n",
       "    </tr>\n",
       "    <tr>\n",
       "      <th>288</th>\n",
       "      <td>Rush Revere and the Brave Pilgrims: Time-Trave...</td>\n",
       "      <td>Rush Limbaugh</td>\n",
       "      <td>4.9</td>\n",
       "      <td>7150</td>\n",
       "      <td>12</td>\n",
       "      <td>2013</td>\n",
       "      <td>Fiction</td>\n",
       "    </tr>\n",
       "    <tr>\n",
       "      <th>289</th>\n",
       "      <td>Rush Revere and the First Patriots: Time-Trave...</td>\n",
       "      <td>Rush Limbaugh</td>\n",
       "      <td>4.9</td>\n",
       "      <td>3836</td>\n",
       "      <td>12</td>\n",
       "      <td>2014</td>\n",
       "      <td>Fiction</td>\n",
       "    </tr>\n",
       "    <tr>\n",
       "      <th>303</th>\n",
       "      <td>Strange Planet (Strange Planet Series)</td>\n",
       "      <td>Nathan W. Pyle</td>\n",
       "      <td>4.9</td>\n",
       "      <td>9382</td>\n",
       "      <td>6</td>\n",
       "      <td>2019</td>\n",
       "      <td>Fiction</td>\n",
       "    </tr>\n",
       "    <tr>\n",
       "      <th>420</th>\n",
       "      <td>The Legend of Zelda: Hyrule Historia</td>\n",
       "      <td>Patrick Thorpe</td>\n",
       "      <td>4.9</td>\n",
       "      <td>5396</td>\n",
       "      <td>20</td>\n",
       "      <td>2013</td>\n",
       "      <td>Fiction</td>\n",
       "    </tr>\n",
       "    <tr>\n",
       "      <th>431</th>\n",
       "      <td>The Magnolia Story</td>\n",
       "      <td>Chip Gaines</td>\n",
       "      <td>4.9</td>\n",
       "      <td>7861</td>\n",
       "      <td>5</td>\n",
       "      <td>2016</td>\n",
       "      <td>Non Fiction</td>\n",
       "    </tr>\n",
       "    <tr>\n",
       "      <th>476</th>\n",
       "      <td>The Very Hungry Caterpillar</td>\n",
       "      <td>Eric Carle</td>\n",
       "      <td>4.9</td>\n",
       "      <td>19546</td>\n",
       "      <td>5</td>\n",
       "      <td>2013</td>\n",
       "      <td>Fiction</td>\n",
       "    </tr>\n",
       "    <tr>\n",
       "      <th>477</th>\n",
       "      <td>The Very Hungry Caterpillar</td>\n",
       "      <td>Eric Carle</td>\n",
       "      <td>4.9</td>\n",
       "      <td>19546</td>\n",
       "      <td>5</td>\n",
       "      <td>2014</td>\n",
       "      <td>Fiction</td>\n",
       "    </tr>\n",
       "    <tr>\n",
       "      <th>478</th>\n",
       "      <td>The Very Hungry Caterpillar</td>\n",
       "      <td>Eric Carle</td>\n",
       "      <td>4.9</td>\n",
       "      <td>19546</td>\n",
       "      <td>5</td>\n",
       "      <td>2015</td>\n",
       "      <td>Fiction</td>\n",
       "    </tr>\n",
       "    <tr>\n",
       "      <th>479</th>\n",
       "      <td>The Very Hungry Caterpillar</td>\n",
       "      <td>Eric Carle</td>\n",
       "      <td>4.9</td>\n",
       "      <td>19546</td>\n",
       "      <td>5</td>\n",
       "      <td>2016</td>\n",
       "      <td>Fiction</td>\n",
       "    </tr>\n",
       "    <tr>\n",
       "      <th>480</th>\n",
       "      <td>The Very Hungry Caterpillar</td>\n",
       "      <td>Eric Carle</td>\n",
       "      <td>4.9</td>\n",
       "      <td>19546</td>\n",
       "      <td>5</td>\n",
       "      <td>2017</td>\n",
       "      <td>Fiction</td>\n",
       "    </tr>\n",
       "    <tr>\n",
       "      <th>481</th>\n",
       "      <td>The Very Hungry Caterpillar</td>\n",
       "      <td>Eric Carle</td>\n",
       "      <td>4.9</td>\n",
       "      <td>19546</td>\n",
       "      <td>5</td>\n",
       "      <td>2018</td>\n",
       "      <td>Fiction</td>\n",
       "    </tr>\n",
       "    <tr>\n",
       "      <th>482</th>\n",
       "      <td>The Very Hungry Caterpillar</td>\n",
       "      <td>Eric Carle</td>\n",
       "      <td>4.9</td>\n",
       "      <td>19546</td>\n",
       "      <td>5</td>\n",
       "      <td>2019</td>\n",
       "      <td>Fiction</td>\n",
       "    </tr>\n",
       "    <tr>\n",
       "      <th>486</th>\n",
       "      <td>The Wonderful Things You Will Be</td>\n",
       "      <td>Emily Winfield Martin</td>\n",
       "      <td>4.9</td>\n",
       "      <td>8842</td>\n",
       "      <td>10</td>\n",
       "      <td>2016</td>\n",
       "      <td>Fiction</td>\n",
       "    </tr>\n",
       "    <tr>\n",
       "      <th>487</th>\n",
       "      <td>The Wonderful Things You Will Be</td>\n",
       "      <td>Emily Winfield Martin</td>\n",
       "      <td>4.9</td>\n",
       "      <td>8842</td>\n",
       "      <td>10</td>\n",
       "      <td>2017</td>\n",
       "      <td>Fiction</td>\n",
       "    </tr>\n",
       "    <tr>\n",
       "      <th>488</th>\n",
       "      <td>The Wonderful Things You Will Be</td>\n",
       "      <td>Emily Winfield Martin</td>\n",
       "      <td>4.9</td>\n",
       "      <td>8842</td>\n",
       "      <td>10</td>\n",
       "      <td>2018</td>\n",
       "      <td>Fiction</td>\n",
       "    </tr>\n",
       "    <tr>\n",
       "      <th>489</th>\n",
       "      <td>The Wonderful Things You Will Be</td>\n",
       "      <td>Emily Winfield Martin</td>\n",
       "      <td>4.9</td>\n",
       "      <td>8842</td>\n",
       "      <td>10</td>\n",
       "      <td>2019</td>\n",
       "      <td>Fiction</td>\n",
       "    </tr>\n",
       "    <tr>\n",
       "      <th>521</th>\n",
       "      <td>Unfreedom of the Press</td>\n",
       "      <td>Mark R. Levin</td>\n",
       "      <td>4.9</td>\n",
       "      <td>5956</td>\n",
       "      <td>11</td>\n",
       "      <td>2019</td>\n",
       "      <td>Non Fiction</td>\n",
       "    </tr>\n",
       "    <tr>\n",
       "      <th>545</th>\n",
       "      <td>Wrecking Ball (Diary of a Wimpy Kid Book 14)</td>\n",
       "      <td>Jeff Kinney</td>\n",
       "      <td>4.9</td>\n",
       "      <td>9413</td>\n",
       "      <td>8</td>\n",
       "      <td>2019</td>\n",
       "      <td>Fiction</td>\n",
       "    </tr>\n",
       "  </tbody>\n",
       "</table>\n",
       "</div>"
      ],
      "text/plain": [
       "                                                  Name                 Author  \\\n",
       "40            Brown Bear, Brown Bear, What Do You See?        Bill Martin Jr.   \n",
       "41            Brown Bear, Brown Bear, What Do You See?        Bill Martin Jr.   \n",
       "81   Dog Man and Cat Kid: From the Creator of Capta...             Dav Pilkey   \n",
       "82   Dog Man: A Tale of Two Kitties: From the Creat...             Dav Pilkey   \n",
       "83   Dog Man: Brawl of the Wild: From the Creator o...             Dav Pilkey   \n",
       "84   Dog Man: Brawl of the Wild: From the Creator o...             Dav Pilkey   \n",
       "85   Dog Man: Fetch-22: From the Creator of Captain...             Dav Pilkey   \n",
       "86   Dog Man: For Whom the Ball Rolls: From the Cre...             Dav Pilkey   \n",
       "87   Dog Man: Lord of the Fleas: From the Creator o...             Dav Pilkey   \n",
       "146  Goodnight, Goodnight Construction Site (Hardco...   Sherri Duskey Rinker   \n",
       "147  Goodnight, Goodnight Construction Site (Hardco...   Sherri Duskey Rinker   \n",
       "151                           Hamilton: The Revolution     Lin-Manuel Miranda   \n",
       "153  Harry Potter and the Chamber of Secrets: The I...           J.K. Rowling   \n",
       "155  Harry Potter and the Goblet of Fire: The Illus...          J. K. Rowling   \n",
       "156  Harry Potter and the Prisoner of Azkaban: The ...           J.K. Rowling   \n",
       "157  Harry Potter and the Sorcerer's Stone: The Ill...           J.K. Rowling   \n",
       "174                       Humans of New York : Stories        Brandon Stanton   \n",
       "187  Jesus Calling: Enjoying Peace in His Presence ...            Sarah Young   \n",
       "188  Jesus Calling: Enjoying Peace in His Presence ...            Sarah Young   \n",
       "189  Jesus Calling: Enjoying Peace in His Presence ...            Sarah Young   \n",
       "190  Jesus Calling: Enjoying Peace in His Presence ...            Sarah Young   \n",
       "191  Jesus Calling: Enjoying Peace in His Presence ...            Sarah Young   \n",
       "192  Jesus Calling: Enjoying Peace in His Presence ...            Sarah Young   \n",
       "207  Last Week Tonight with John Oliver Presents A ...             Jill Twiss   \n",
       "219                                  Little Blue Truck         Alice Schertle   \n",
       "244                        Obama: An Intimate Portrait             Pete Souza   \n",
       "245                          Oh, the Places You'll Go!              Dr. Seuss   \n",
       "246                          Oh, the Places You'll Go!              Dr. Seuss   \n",
       "247                          Oh, the Places You'll Go!              Dr. Seuss   \n",
       "248                          Oh, the Places You'll Go!              Dr. Seuss   \n",
       "249                          Oh, the Places You'll Go!              Dr. Seuss   \n",
       "250                          Oh, the Places You'll Go!              Dr. Seuss   \n",
       "251                          Oh, the Places You'll Go!              Dr. Seuss   \n",
       "252                          Oh, the Places You'll Go!              Dr. Seuss   \n",
       "288  Rush Revere and the Brave Pilgrims: Time-Trave...          Rush Limbaugh   \n",
       "289  Rush Revere and the First Patriots: Time-Trave...          Rush Limbaugh   \n",
       "303             Strange Planet (Strange Planet Series)         Nathan W. Pyle   \n",
       "420               The Legend of Zelda: Hyrule Historia         Patrick Thorpe   \n",
       "431                                 The Magnolia Story            Chip Gaines   \n",
       "476                        The Very Hungry Caterpillar             Eric Carle   \n",
       "477                        The Very Hungry Caterpillar             Eric Carle   \n",
       "478                        The Very Hungry Caterpillar             Eric Carle   \n",
       "479                        The Very Hungry Caterpillar             Eric Carle   \n",
       "480                        The Very Hungry Caterpillar             Eric Carle   \n",
       "481                        The Very Hungry Caterpillar             Eric Carle   \n",
       "482                        The Very Hungry Caterpillar             Eric Carle   \n",
       "486                   The Wonderful Things You Will Be  Emily Winfield Martin   \n",
       "487                   The Wonderful Things You Will Be  Emily Winfield Martin   \n",
       "488                   The Wonderful Things You Will Be  Emily Winfield Martin   \n",
       "489                   The Wonderful Things You Will Be  Emily Winfield Martin   \n",
       "521                             Unfreedom of the Press          Mark R. Levin   \n",
       "545       Wrecking Ball (Diary of a Wimpy Kid Book 14)            Jeff Kinney   \n",
       "\n",
       "     User Rating  Reviews  Price  Year        Genre  \n",
       "40           4.9    14344      5  2017      Fiction  \n",
       "41           4.9    14344      5  2019      Fiction  \n",
       "81           4.9     5062      6  2018      Fiction  \n",
       "82           4.9     4786      8  2017      Fiction  \n",
       "83           4.9     7235      4  2018      Fiction  \n",
       "84           4.9     7235      4  2019      Fiction  \n",
       "85           4.9    12619      8  2019      Fiction  \n",
       "86           4.9     9089      8  2019      Fiction  \n",
       "87           4.9     5470      6  2018      Fiction  \n",
       "146          4.9     7038      7  2012      Fiction  \n",
       "147          4.9     7038      7  2013      Fiction  \n",
       "151          4.9     5867     54  2016  Non Fiction  \n",
       "153          4.9    19622     30  2016      Fiction  \n",
       "155          4.9     7758     18  2019      Fiction  \n",
       "156          4.9     3146     30  2017      Fiction  \n",
       "157          4.9    10052     22  2016      Fiction  \n",
       "174          4.9     2812     17  2015  Non Fiction  \n",
       "187          4.9    19576      8  2011  Non Fiction  \n",
       "188          4.9    19576      8  2012  Non Fiction  \n",
       "189          4.9    19576      8  2013  Non Fiction  \n",
       "190          4.9    19576      8  2014  Non Fiction  \n",
       "191          4.9    19576      8  2015  Non Fiction  \n",
       "192          4.9    19576      8  2016  Non Fiction  \n",
       "207          4.9    11881     13  2018      Fiction  \n",
       "219          4.9     1884      0  2014      Fiction  \n",
       "244          4.9     3192     22  2017  Non Fiction  \n",
       "245          4.9    21834      8  2012      Fiction  \n",
       "246          4.9    21834      8  2013      Fiction  \n",
       "247          4.9    21834      8  2014      Fiction  \n",
       "248          4.9    21834      8  2015      Fiction  \n",
       "249          4.9    21834      8  2016      Fiction  \n",
       "250          4.9    21834      8  2017      Fiction  \n",
       "251          4.9    21834      8  2018      Fiction  \n",
       "252          4.9    21834      8  2019      Fiction  \n",
       "288          4.9     7150     12  2013      Fiction  \n",
       "289          4.9     3836     12  2014      Fiction  \n",
       "303          4.9     9382      6  2019      Fiction  \n",
       "420          4.9     5396     20  2013      Fiction  \n",
       "431          4.9     7861      5  2016  Non Fiction  \n",
       "476          4.9    19546      5  2013      Fiction  \n",
       "477          4.9    19546      5  2014      Fiction  \n",
       "478          4.9    19546      5  2015      Fiction  \n",
       "479          4.9    19546      5  2016      Fiction  \n",
       "480          4.9    19546      5  2017      Fiction  \n",
       "481          4.9    19546      5  2018      Fiction  \n",
       "482          4.9    19546      5  2019      Fiction  \n",
       "486          4.9     8842     10  2016      Fiction  \n",
       "487          4.9     8842     10  2017      Fiction  \n",
       "488          4.9     8842     10  2018      Fiction  \n",
       "489          4.9     8842     10  2019      Fiction  \n",
       "521          4.9     5956     11  2019  Non Fiction  \n",
       "545          4.9     9413      8  2019      Fiction  "
      ]
     },
     "execution_count": 7,
     "metadata": {},
     "output_type": "execute_result"
    }
   ],
   "source": [
    "cool = df[df['User Rating'] == 4.9]\n",
    "cool"
   ]
  },
  {
   "cell_type": "markdown",
   "metadata": {},
   "source": [
    "We can see J.K. Rowling again with her Harry Potter. However, the majority of those highly rated books are all books for children. There are also books about Jesus calling and Obama's intimate portrait, but those are outliers."
   ]
  },
  {
   "cell_type": "markdown",
   "metadata": {},
   "source": [
    "Let's see if there any relationships between rating and amount of reviews."
   ]
  },
  {
   "cell_type": "code",
   "execution_count": 8,
   "metadata": {},
   "outputs": [
    {
     "data": {
      "image/png": "[encoded data removed]",
      "text/plain": [
       "<Figure size 864x432 with 1 Axes>"
      ]
     },
     "metadata": {},
     "output_type": "display_data"
    }
   ],
   "source": [
    "sns.scatterplot(data=df, x='User Rating', y='Reviews', hue='Genre');"
   ]
  },
  {
   "cell_type": "markdown",
   "metadata": {},
   "source": [
    "We can tell from the scatterplot that the higher the rating, the more reviews a book generaly gets. It is also clear that there are much more books with ratings of 4.2 and above than those below this rating.<br>\n",
    "Now let's find out what books people love better - fiction or non-fiction."
   ]
  },
  {
   "cell_type": "code",
   "execution_count": 9,
   "metadata": {},
   "outputs": [
    {
     "data": {
      "text/plain": [
       "4.648333333333326"
      ]
     },
     "execution_count": 9,
     "metadata": {},
     "output_type": "execute_result"
    }
   ],
   "source": [
    "df[df['Genre'] == 'Fiction']['User Rating'].mean()"
   ]
  },
  {
   "cell_type": "code",
   "execution_count": 10,
   "metadata": {},
   "outputs": [
    {
     "data": {
      "text/plain": [
       "4.595161290322579"
      ]
     },
     "execution_count": 10,
     "metadata": {},
     "output_type": "execute_result"
    }
   ],
   "source": [
    "df[df['Genre'] != 'Fiction']['User Rating'].mean()"
   ]
  },
  {
   "cell_type": "markdown",
   "metadata": {},
   "source": [
    "There is no significant difference between average user rating for fiction and non-fiction books. But did peoples' preferences about the genre changed during 10 years?"
   ]
  },
  {
   "cell_type": "code",
   "execution_count": 11,
   "metadata": {},
   "outputs": [
    {
     "data": {
      "image/png": "[encoded data removed]",
      "text/plain": [
       "<Figure size 864x432 with 1 Axes>"
      ]
     },
     "metadata": {},
     "output_type": "display_data"
    }
   ],
   "source": [
    "sns.barplot(data=df, x='Year', y='User Rating', hue='Genre');"
   ]
  },
  {
   "cell_type": "markdown",
   "metadata": {},
   "source": [
    "As we can see, fiction and non fiction books were consistently showing similar results for all 10 years of survey."
   ]
  },
  {
   "cell_type": "markdown",
   "metadata": {},
   "source": [
    "Okay, now let's see if people prefer newer books over older ones."
   ]
  },
  {
   "cell_type": "code",
   "execution_count": 12,
   "metadata": {},
   "outputs": [
    {
     "name": "stdout",
     "output_type": "stream",
     "text": [
      "4.568000000000003\n",
      "4.6787999999999945\n"
     ]
    }
   ],
   "source": [
    "old = df[df['Year'] < 2015]\n",
    "new = df[df['Year'] >= 2015]\n",
    "print(old['User Rating'].mean())\n",
    "print(new['User Rating'].mean())"
   ]
  },
  {
   "cell_type": "markdown",
   "metadata": {},
   "source": [
    "Again, no significant difference between older and newer books' ratings."
   ]
  },
  {
   "cell_type": "markdown",
   "metadata": {},
   "source": [
    "Now it's time to find out the top-3 best selling authors. First, let's see if any author wrote a book with the raiting of 5."
   ]
  },
  {
   "cell_type": "code",
   "execution_count": 13,
   "metadata": {},
   "outputs": [
    {
     "data": {
      "text/plain": [
       "Name           False\n",
       "Author         False\n",
       "User Rating    False\n",
       "Reviews        False\n",
       "Price          False\n",
       "Year           False\n",
       "Genre          False\n",
       "dtype: bool"
      ]
     },
     "execution_count": 13,
     "metadata": {},
     "output_type": "execute_result"
    }
   ],
   "source": [
    "df[df['User Rating'] == 5].any()"
   ]
  },
  {
   "cell_type": "markdown",
   "metadata": {},
   "source": [
    "Nope. What about authors with 4.5 rating?"
   ]
  },
  {
   "cell_type": "code",
   "execution_count": 14,
   "metadata": {},
   "outputs": [
    {
     "data": {
      "text/html": [
       "<div>\n",
       "<style scoped>\n",
       "    .dataframe tbody tr th:only-of-type {\n",
       "        vertical-align: middle;\n",
       "    }\n",
       "\n",
       "    .dataframe tbody tr th {\n",
       "        vertical-align: top;\n",
       "    }\n",
       "\n",
       "    .dataframe thead th {\n",
       "        text-align: right;\n",
       "    }\n",
       "</style>\n",
       "<table border=\"1\" class=\"dataframe\">\n",
       "  <thead>\n",
       "    <tr style=\"text-align: right;\">\n",
       "      <th></th>\n",
       "      <th>Name</th>\n",
       "      <th>Author</th>\n",
       "      <th>User Rating</th>\n",
       "      <th>Reviews</th>\n",
       "      <th>Genre</th>\n",
       "    </tr>\n",
       "  </thead>\n",
       "  <tbody>\n",
       "    <tr>\n",
       "      <th>0</th>\n",
       "      <td>10-Day Green Smoothie Cleanse</td>\n",
       "      <td>JJ Smith</td>\n",
       "      <td>4.7</td>\n",
       "      <td>17350</td>\n",
       "      <td>Non Fiction</td>\n",
       "    </tr>\n",
       "    <tr>\n",
       "      <th>1</th>\n",
       "      <td>11/22/63: A Novel</td>\n",
       "      <td>Stephen King</td>\n",
       "      <td>4.6</td>\n",
       "      <td>2052</td>\n",
       "      <td>Fiction</td>\n",
       "    </tr>\n",
       "    <tr>\n",
       "      <th>2</th>\n",
       "      <td>12 Rules for Life: An Antidote to Chaos</td>\n",
       "      <td>Jordan B. Peterson</td>\n",
       "      <td>4.7</td>\n",
       "      <td>18979</td>\n",
       "      <td>Non Fiction</td>\n",
       "    </tr>\n",
       "    <tr>\n",
       "      <th>3</th>\n",
       "      <td>1984 (Signet Classics)</td>\n",
       "      <td>George Orwell</td>\n",
       "      <td>4.7</td>\n",
       "      <td>21424</td>\n",
       "      <td>Fiction</td>\n",
       "    </tr>\n",
       "    <tr>\n",
       "      <th>4</th>\n",
       "      <td>5,000 Awesome Facts (About Everything!) (Natio...</td>\n",
       "      <td>National Geographic Kids</td>\n",
       "      <td>4.8</td>\n",
       "      <td>7665</td>\n",
       "      <td>Non Fiction</td>\n",
       "    </tr>\n",
       "  </tbody>\n",
       "</table>\n",
       "</div>"
      ],
      "text/plain": [
       "                                                Name  \\\n",
       "0                      10-Day Green Smoothie Cleanse   \n",
       "1                                  11/22/63: A Novel   \n",
       "2            12 Rules for Life: An Antidote to Chaos   \n",
       "3                             1984 (Signet Classics)   \n",
       "4  5,000 Awesome Facts (About Everything!) (Natio...   \n",
       "\n",
       "                     Author  User Rating  Reviews        Genre  \n",
       "0                  JJ Smith          4.7    17350  Non Fiction  \n",
       "1              Stephen King          4.6     2052      Fiction  \n",
       "2        Jordan B. Peterson          4.7    18979  Non Fiction  \n",
       "3             George Orwell          4.7    21424      Fiction  \n",
       "4  National Geographic Kids          4.8     7665  Non Fiction  "
      ]
     },
     "execution_count": 14,
     "metadata": {},
     "output_type": "execute_result"
    }
   ],
   "source": [
    "top_books = df[df['User Rating'] >= 4.5].drop(['Price', 'Year'], axis=1)\n",
    "top_books.head()"
   ]
  },
  {
   "cell_type": "markdown",
   "metadata": {},
   "source": [
    "Let's find out what rating is the most popular one among top writers."
   ]
  },
  {
   "cell_type": "code",
   "execution_count": 15,
   "metadata": {},
   "outputs": [
    {
     "data": {
      "image/png": "[encoded data removed]",
      "text/plain": [
       "<Figure size 864x432 with 1 Axes>"
      ]
     },
     "metadata": {},
     "output_type": "display_data"
    }
   ],
   "source": [
    "sns.histplot(data=top_books, x='User Rating')\n",
    "plt.title('User rating distribution among highly rated books')\n",
    "plt.show()"
   ]
  },
  {
   "cell_type": "markdown",
   "metadata": {},
   "source": [
    "We can see that among the most highly rated books the rating 4.8 is most often. What about all books in the dataset?"
   ]
  },
  {
   "cell_type": "code",
   "execution_count": 16,
   "metadata": {},
   "outputs": [
    {
     "data": {
      "image/png": "[encoded data removed]",
      "text/plain": [
       "<Figure size 864x432 with 1 Axes>"
      ]
     },
     "metadata": {},
     "output_type": "display_data"
    }
   ],
   "source": [
    "sns.histplot(data=df, x='User Rating')\n",
    "plt.title('User rating distribution among all books')\n",
    "plt.show()"
   ]
  },
  {
   "cell_type": "markdown",
   "metadata": {},
   "source": [
    "Interestingly enough, the most popular rating here is still 4.8. And we can see that amount of positive ratings (those higher than 4.0) is overwelmingly bigger."
   ]
  },
  {
   "cell_type": "markdown",
   "metadata": {},
   "source": [
    "Now, who actually is the most best-selling author?"
   ]
  },
  {
   "cell_type": "code",
   "execution_count": 17,
   "metadata": {},
   "outputs": [],
   "source": [
    "authors = df['Author'].value_counts()\n",
    "author_names = []\n",
    "author_counts = []\n",
    "for i in range(len(authors)):\n",
    "    author_names.append(authors.keys()[i])\n",
    "    author_counts.append(authors[i])"
   ]
  },
  {
   "cell_type": "code",
   "execution_count": 18,
   "metadata": {},
   "outputs": [
    {
     "data": {
      "text/plain": [
       "['Jeff Kinney',\n",
       " 'Rick Riordan',\n",
       " 'Gary Chapman',\n",
       " 'Suzanne Collins',\n",
       " 'American Psychological Association']"
      ]
     },
     "execution_count": 18,
     "metadata": {},
     "output_type": "execute_result"
    }
   ],
   "source": [
    "author_names[:5]"
   ]
  },
  {
   "cell_type": "code",
   "execution_count": 19,
   "metadata": {},
   "outputs": [
    {
     "data": {
      "text/plain": [
       "[12, 11, 11, 11, 10]"
      ]
     },
     "execution_count": 19,
     "metadata": {},
     "output_type": "execute_result"
    }
   ],
   "source": [
    "author_counts[:5]"
   ]
  },
  {
   "cell_type": "code",
   "execution_count": 20,
   "metadata": {},
   "outputs": [
    {
     "data": {
      "text/html": [
       "<div>\n",
       "<style scoped>\n",
       "    .dataframe tbody tr th:only-of-type {\n",
       "        vertical-align: middle;\n",
       "    }\n",
       "\n",
       "    .dataframe tbody tr th {\n",
       "        vertical-align: top;\n",
       "    }\n",
       "\n",
       "    .dataframe thead th {\n",
       "        text-align: right;\n",
       "    }\n",
       "</style>\n",
       "<table border=\"1\" class=\"dataframe\">\n",
       "  <thead>\n",
       "    <tr style=\"text-align: right;\">\n",
       "      <th></th>\n",
       "      <th>Author</th>\n",
       "      <th>Count</th>\n",
       "    </tr>\n",
       "  </thead>\n",
       "  <tbody>\n",
       "    <tr>\n",
       "      <th>0</th>\n",
       "      <td>Jeff Kinney</td>\n",
       "      <td>12</td>\n",
       "    </tr>\n",
       "    <tr>\n",
       "      <th>1</th>\n",
       "      <td>Rick Riordan</td>\n",
       "      <td>11</td>\n",
       "    </tr>\n",
       "    <tr>\n",
       "      <th>2</th>\n",
       "      <td>Gary Chapman</td>\n",
       "      <td>11</td>\n",
       "    </tr>\n",
       "    <tr>\n",
       "      <th>3</th>\n",
       "      <td>Suzanne Collins</td>\n",
       "      <td>11</td>\n",
       "    </tr>\n",
       "    <tr>\n",
       "      <th>4</th>\n",
       "      <td>American Psychological Association</td>\n",
       "      <td>10</td>\n",
       "    </tr>\n",
       "    <tr>\n",
       "      <th>...</th>\n",
       "      <td>...</td>\n",
       "      <td>...</td>\n",
       "    </tr>\n",
       "    <tr>\n",
       "      <th>243</th>\n",
       "      <td>Coloring Books for Adults</td>\n",
       "      <td>1</td>\n",
       "    </tr>\n",
       "    <tr>\n",
       "      <th>244</th>\n",
       "      <td>Randy Pausch</td>\n",
       "      <td>1</td>\n",
       "    </tr>\n",
       "    <tr>\n",
       "      <th>245</th>\n",
       "      <td>Ken Follett</td>\n",
       "      <td>1</td>\n",
       "    </tr>\n",
       "    <tr>\n",
       "      <th>246</th>\n",
       "      <td>Marty Noble</td>\n",
       "      <td>1</td>\n",
       "    </tr>\n",
       "    <tr>\n",
       "      <th>247</th>\n",
       "      <td>Crispin Boyer</td>\n",
       "      <td>1</td>\n",
       "    </tr>\n",
       "  </tbody>\n",
       "</table>\n",
       "<p>248 rows × 2 columns</p>\n",
       "</div>"
      ],
      "text/plain": [
       "                                 Author  Count\n",
       "0                           Jeff Kinney     12\n",
       "1                          Rick Riordan     11\n",
       "2                          Gary Chapman     11\n",
       "3                       Suzanne Collins     11\n",
       "4    American Psychological Association     10\n",
       "..                                  ...    ...\n",
       "243           Coloring Books for Adults      1\n",
       "244                        Randy Pausch      1\n",
       "245                         Ken Follett      1\n",
       "246                         Marty Noble      1\n",
       "247                       Crispin Boyer      1\n",
       "\n",
       "[248 rows x 2 columns]"
      ]
     },
     "execution_count": 20,
     "metadata": {},
     "output_type": "execute_result"
    }
   ],
   "source": [
    "top_authors = pd.DataFrame({'Author':author_names, 'Count':author_counts})\n",
    "top_authors"
   ]
  },
  {
   "cell_type": "code",
   "execution_count": 21,
   "metadata": {},
   "outputs": [],
   "source": [
    "top_authors = top_authors[:10]"
   ]
  },
  {
   "cell_type": "code",
   "execution_count": 22,
   "metadata": {},
   "outputs": [
    {
     "data": {
      "image/png": "[encoded data removed]",
      "text/plain": [
       "<Figure size 864x432 with 1 Axes>"
      ]
     },
     "metadata": {},
     "output_type": "display_data"
    }
   ],
   "source": [
    "sns.barplot(data=top_authors, x='Count', y='Author');"
   ]
  },
  {
   "cell_type": "markdown",
   "metadata": {},
   "source": [
    "As we can see, Jeff Kinney is the leader - his books appeared in the TOP list 12 times. Next after him are Gary Chapman, Suzanne Collins and Rick Riordan (11 times each)."
   ]
  },
  {
   "cell_type": "markdown",
   "metadata": {},
   "source": [
    "We will now take a look at the price distribution of all books and then find out if there is any correlation between a book's price and its rating."
   ]
  },
  {
   "cell_type": "code",
   "execution_count": 23,
   "metadata": {},
   "outputs": [
    {
     "data": {
      "image/png": "[encoded data removed]",
      "text/plain": [
       "<Figure size 864x432 with 1 Axes>"
      ]
     },
     "metadata": {},
     "output_type": "display_data"
    }
   ],
   "source": [
    "sns.histplot(data=df, x='Price');"
   ]
  },
  {
   "cell_type": "markdown",
   "metadata": {},
   "source": [
    "Most of the books are cheaper than 20 dollars. "
   ]
  },
  {
   "cell_type": "code",
   "execution_count": 24,
   "metadata": {},
   "outputs": [
    {
     "data": {
      "image/png": "[encoded data removed]",
      "text/plain": [
       "<Figure size 864x432 with 1 Axes>"
      ]
     },
     "metadata": {},
     "output_type": "display_data"
    }
   ],
   "source": [
    "sns.scatterplot(data=df, x='User Rating', y='Price', hue='Genre');"
   ]
  },
  {
   "cell_type": "markdown",
   "metadata": {},
   "source": [
    "It doesn't seem that there is any correlation between a book's price and its rating. Who would have thought?"
   ]
  }
 ],
 "metadata": {
  "kernelspec": {
   "display_name": "Python 3",
   "language": "python",
   "name": "python3"
  },
  "language_info": {
   "codemirror_mode": {
    "name": "ipython",
    "version": 3
   },
   "file_extension": ".py",
   "mimetype": "text/x-python",
   "name": "python",
   "nbconvert_exporter": "python",
   "pygments_lexer": "ipython3",
   "version": "3.7.9"
  }
 },
 "nbformat": 4,
 "nbformat_minor": 4
}
